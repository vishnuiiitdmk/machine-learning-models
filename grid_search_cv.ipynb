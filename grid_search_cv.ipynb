{
 "cells": [
  {
   "cell_type": "code",
   "execution_count": 33,
   "id": "518a20d8",
   "metadata": {},
   "outputs": [],
   "source": [
    "import numpy as np\n",
    "import pandas as pd\n",
    "import sklearn\n",
    "from sklearn.model_selection import GridSearchCV\n",
    "from sklearn.model_selection import RandomizedSearchCV\n",
    "from sklearn.model_selection import train_test_split\n",
    "from sklearn.model_selection import cross_val_score\n",
    "from sklearn.svm import SVC\n",
    "from sklearn.metrics import accuracy_score"
   ]
  },
  {
   "cell_type": "code",
   "execution_count": 4,
   "id": "e8bd2d6e",
   "metadata": {},
   "outputs": [],
   "source": [
    "f1=pd.read_csv(\"train.csv\")"
   ]
  },
  {
   "cell_type": "code",
   "execution_count": 5,
   "id": "3db6ec55",
   "metadata": {},
   "outputs": [
    {
     "data": {
      "text/html": [
       "<div>\n",
       "<style scoped>\n",
       "    .dataframe tbody tr th:only-of-type {\n",
       "        vertical-align: middle;\n",
       "    }\n",
       "\n",
       "    .dataframe tbody tr th {\n",
       "        vertical-align: top;\n",
       "    }\n",
       "\n",
       "    .dataframe thead th {\n",
       "        text-align: right;\n",
       "    }\n",
       "</style>\n",
       "<table border=\"1\" class=\"dataframe\">\n",
       "  <thead>\n",
       "    <tr style=\"text-align: right;\">\n",
       "      <th></th>\n",
       "      <th>Pregnancies</th>\n",
       "      <th>Glucose</th>\n",
       "      <th>BloodPressure</th>\n",
       "      <th>SkinThickness</th>\n",
       "      <th>Insulin</th>\n",
       "      <th>BMI</th>\n",
       "      <th>DiabetesPedigreeFunction</th>\n",
       "      <th>Age</th>\n",
       "      <th>Outcome</th>\n",
       "    </tr>\n",
       "  </thead>\n",
       "  <tbody>\n",
       "    <tr>\n",
       "      <th>0</th>\n",
       "      <td>6</td>\n",
       "      <td>148</td>\n",
       "      <td>72</td>\n",
       "      <td>35</td>\n",
       "      <td>0</td>\n",
       "      <td>33.6</td>\n",
       "      <td>0.627</td>\n",
       "      <td>50</td>\n",
       "      <td>1</td>\n",
       "    </tr>\n",
       "    <tr>\n",
       "      <th>1</th>\n",
       "      <td>1</td>\n",
       "      <td>85</td>\n",
       "      <td>66</td>\n",
       "      <td>29</td>\n",
       "      <td>0</td>\n",
       "      <td>26.6</td>\n",
       "      <td>0.351</td>\n",
       "      <td>31</td>\n",
       "      <td>0</td>\n",
       "    </tr>\n",
       "    <tr>\n",
       "      <th>2</th>\n",
       "      <td>8</td>\n",
       "      <td>183</td>\n",
       "      <td>64</td>\n",
       "      <td>0</td>\n",
       "      <td>0</td>\n",
       "      <td>23.3</td>\n",
       "      <td>0.672</td>\n",
       "      <td>32</td>\n",
       "      <td>1</td>\n",
       "    </tr>\n",
       "    <tr>\n",
       "      <th>3</th>\n",
       "      <td>1</td>\n",
       "      <td>89</td>\n",
       "      <td>66</td>\n",
       "      <td>23</td>\n",
       "      <td>94</td>\n",
       "      <td>28.1</td>\n",
       "      <td>0.167</td>\n",
       "      <td>21</td>\n",
       "      <td>0</td>\n",
       "    </tr>\n",
       "    <tr>\n",
       "      <th>4</th>\n",
       "      <td>0</td>\n",
       "      <td>137</td>\n",
       "      <td>40</td>\n",
       "      <td>35</td>\n",
       "      <td>168</td>\n",
       "      <td>43.1</td>\n",
       "      <td>2.288</td>\n",
       "      <td>33</td>\n",
       "      <td>1</td>\n",
       "    </tr>\n",
       "    <tr>\n",
       "      <th>...</th>\n",
       "      <td>...</td>\n",
       "      <td>...</td>\n",
       "      <td>...</td>\n",
       "      <td>...</td>\n",
       "      <td>...</td>\n",
       "      <td>...</td>\n",
       "      <td>...</td>\n",
       "      <td>...</td>\n",
       "      <td>...</td>\n",
       "    </tr>\n",
       "    <tr>\n",
       "      <th>763</th>\n",
       "      <td>10</td>\n",
       "      <td>101</td>\n",
       "      <td>76</td>\n",
       "      <td>48</td>\n",
       "      <td>180</td>\n",
       "      <td>32.9</td>\n",
       "      <td>0.171</td>\n",
       "      <td>63</td>\n",
       "      <td>0</td>\n",
       "    </tr>\n",
       "    <tr>\n",
       "      <th>764</th>\n",
       "      <td>2</td>\n",
       "      <td>122</td>\n",
       "      <td>70</td>\n",
       "      <td>27</td>\n",
       "      <td>0</td>\n",
       "      <td>36.8</td>\n",
       "      <td>0.340</td>\n",
       "      <td>27</td>\n",
       "      <td>0</td>\n",
       "    </tr>\n",
       "    <tr>\n",
       "      <th>765</th>\n",
       "      <td>5</td>\n",
       "      <td>121</td>\n",
       "      <td>72</td>\n",
       "      <td>23</td>\n",
       "      <td>112</td>\n",
       "      <td>26.2</td>\n",
       "      <td>0.245</td>\n",
       "      <td>30</td>\n",
       "      <td>0</td>\n",
       "    </tr>\n",
       "    <tr>\n",
       "      <th>766</th>\n",
       "      <td>1</td>\n",
       "      <td>126</td>\n",
       "      <td>60</td>\n",
       "      <td>0</td>\n",
       "      <td>0</td>\n",
       "      <td>30.1</td>\n",
       "      <td>0.349</td>\n",
       "      <td>47</td>\n",
       "      <td>1</td>\n",
       "    </tr>\n",
       "    <tr>\n",
       "      <th>767</th>\n",
       "      <td>1</td>\n",
       "      <td>93</td>\n",
       "      <td>70</td>\n",
       "      <td>31</td>\n",
       "      <td>0</td>\n",
       "      <td>30.4</td>\n",
       "      <td>0.315</td>\n",
       "      <td>23</td>\n",
       "      <td>0</td>\n",
       "    </tr>\n",
       "  </tbody>\n",
       "</table>\n",
       "<p>768 rows × 9 columns</p>\n",
       "</div>"
      ],
      "text/plain": [
       "     Pregnancies  Glucose  BloodPressure  SkinThickness  Insulin   BMI  \\\n",
       "0              6      148             72             35        0  33.6   \n",
       "1              1       85             66             29        0  26.6   \n",
       "2              8      183             64              0        0  23.3   \n",
       "3              1       89             66             23       94  28.1   \n",
       "4              0      137             40             35      168  43.1   \n",
       "..           ...      ...            ...            ...      ...   ...   \n",
       "763           10      101             76             48      180  32.9   \n",
       "764            2      122             70             27        0  36.8   \n",
       "765            5      121             72             23      112  26.2   \n",
       "766            1      126             60              0        0  30.1   \n",
       "767            1       93             70             31        0  30.4   \n",
       "\n",
       "     DiabetesPedigreeFunction  Age  Outcome  \n",
       "0                       0.627   50        1  \n",
       "1                       0.351   31        0  \n",
       "2                       0.672   32        1  \n",
       "3                       0.167   21        0  \n",
       "4                       2.288   33        1  \n",
       "..                        ...  ...      ...  \n",
       "763                     0.171   63        0  \n",
       "764                     0.340   27        0  \n",
       "765                     0.245   30        0  \n",
       "766                     0.349   47        1  \n",
       "767                     0.315   23        0  \n",
       "\n",
       "[768 rows x 9 columns]"
      ]
     },
     "execution_count": 5,
     "metadata": {},
     "output_type": "execute_result"
    }
   ],
   "source": [
    "f1"
   ]
  },
  {
   "cell_type": "code",
   "execution_count": 6,
   "id": "092cac0f",
   "metadata": {},
   "outputs": [],
   "source": [
    "x=f1.drop(columns='Outcome')\n",
    "y=f1['Outcome']"
   ]
  },
  {
   "cell_type": "code",
   "execution_count": 15,
   "id": "113ce4f6",
   "metadata": {},
   "outputs": [],
   "source": [
    "parameter={\n",
    "    'kernel':['sigmoid','linear','rbf','poly'],\n",
    "    'C':[1,5,10,20]\n",
    "}"
   ]
  },
  {
   "cell_type": "code",
   "execution_count": 18,
   "id": "f749655a",
   "metadata": {},
   "outputs": [],
   "source": [
    "g1=GridSearchCV(SVC(),parameter,cv=5)"
   ]
  },
  {
   "cell_type": "code",
   "execution_count": 19,
   "id": "541d0ad9",
   "metadata": {},
   "outputs": [
    {
     "data": {
      "text/plain": [
       "GridSearchCV(cv=5, estimator=SVC(),\n",
       "             param_grid={'C': [1, 5, 10, 20],\n",
       "                         'kernel': ['sigmoid', 'linear', 'rbf', 'poly']})"
      ]
     },
     "execution_count": 19,
     "metadata": {},
     "output_type": "execute_result"
    }
   ],
   "source": [
    "g1.fit(x,y)"
   ]
  },
  {
   "cell_type": "code",
   "execution_count": 20,
   "id": "6d7a0b90",
   "metadata": {},
   "outputs": [
    {
     "data": {
      "text/plain": [
       "{'mean_fit_time': array([2.04453945e-02, 3.32952323e+00, 1.56173706e-02, 1.87467575e-02,\n",
       "        1.56215191e-02, 1.27856293e+01, 1.56225681e-02, 6.56087399e-02,\n",
       "        1.56142712e-02, 2.56332996e+01, 1.56225204e-02, 8.12225342e-02,\n",
       "        1.56215191e-02, 4.32164004e+01, 1.56301498e-02, 1.62461805e-01]),\n",
       " 'std_fit_time': array([7.62163047e-03, 1.01418838e+00, 2.05173006e-05, 6.24738273e-03,\n",
       "        6.84390073e-07, 3.01083628e+00, 2.05869991e-06, 3.87704357e-02,\n",
       "        1.38340313e-05, 3.56391584e+00, 1.60716052e-06, 3.33711731e-02,\n",
       "        9.89065525e-03, 5.55428619e+00, 9.39453915e-06, 6.13945137e-02]),\n",
       " 'mean_score_time': array([0.00531859, 0.00937285, 0.00937662, 0.00624738, 0.00624909,\n",
       "        0.00312443, 0.009372  , 0.00312462, 0.00625629, 0.00312457,\n",
       "        0.00937223, 0.00938025, 0.00312424, 0.        , 0.00623984,\n",
       "        0.00312462]),\n",
       " 'std_score_time': array([0.00571531, 0.0076529 , 0.00765599, 0.00765144, 0.00765355,\n",
       "        0.00624886, 0.0076522 , 0.00624924, 0.00766237, 0.00624914,\n",
       "        0.0076524 , 0.00765895, 0.00624847, 0.        , 0.00764223,\n",
       "        0.00624924]),\n",
       " 'param_C': masked_array(data=[1, 1, 1, 1, 5, 5, 5, 5, 10, 10, 10, 10, 20, 20, 20, 20],\n",
       "              mask=[False, False, False, False, False, False, False, False,\n",
       "                    False, False, False, False, False, False, False, False],\n",
       "        fill_value='?',\n",
       "             dtype=object),\n",
       " 'param_kernel': masked_array(data=['sigmoid', 'linear', 'rbf', 'poly', 'sigmoid',\n",
       "                    'linear', 'rbf', 'poly', 'sigmoid', 'linear', 'rbf',\n",
       "                    'poly', 'sigmoid', 'linear', 'rbf', 'poly'],\n",
       "              mask=[False, False, False, False, False, False, False, False,\n",
       "                    False, False, False, False, False, False, False, False],\n",
       "        fill_value='?',\n",
       "             dtype=object),\n",
       " 'params': [{'C': 1, 'kernel': 'sigmoid'},\n",
       "  {'C': 1, 'kernel': 'linear'},\n",
       "  {'C': 1, 'kernel': 'rbf'},\n",
       "  {'C': 1, 'kernel': 'poly'},\n",
       "  {'C': 5, 'kernel': 'sigmoid'},\n",
       "  {'C': 5, 'kernel': 'linear'},\n",
       "  {'C': 5, 'kernel': 'rbf'},\n",
       "  {'C': 5, 'kernel': 'poly'},\n",
       "  {'C': 10, 'kernel': 'sigmoid'},\n",
       "  {'C': 10, 'kernel': 'linear'},\n",
       "  {'C': 10, 'kernel': 'rbf'},\n",
       "  {'C': 10, 'kernel': 'poly'},\n",
       "  {'C': 20, 'kernel': 'sigmoid'},\n",
       "  {'C': 20, 'kernel': 'linear'},\n",
       "  {'C': 20, 'kernel': 'rbf'},\n",
       "  {'C': 20, 'kernel': 'poly'}],\n",
       " 'split0_test_score': array([0.51948052, 0.75974026, 0.74675325, 0.75974026, 0.51298701,\n",
       "        0.75324675, 0.74675325, 0.77922078, 0.50649351, 0.75974026,\n",
       "        0.73376623, 0.76623377, 0.51298701, 0.75974026, 0.74025974,\n",
       "        0.75974026]),\n",
       " 'split1_test_score': array([0.50649351, 0.75324675, 0.73376623, 0.74025974, 0.43506494,\n",
       "        0.77272727, 0.73376623, 0.75974026, 0.42207792, 0.76623377,\n",
       "        0.74025974, 0.77922078, 0.41558442, 0.74675325, 0.74025974,\n",
       "        0.77922078]),\n",
       " 'split2_test_score': array([0.3961039 , 0.74025974, 0.77272727, 0.77272727, 0.36363636,\n",
       "        0.74675325, 0.76623377, 0.75974026, 0.36363636, 0.74025974,\n",
       "        0.76623377, 0.75974026, 0.36363636, 0.75324675, 0.77272727,\n",
       "        0.76623377]),\n",
       " 'split3_test_score': array([0.49673203, 0.81045752, 0.79084967, 0.79084967, 0.45098039,\n",
       "        0.81699346, 0.79738562, 0.78431373, 0.44444444, 0.81045752,\n",
       "        0.79084967, 0.78431373, 0.4379085 , 0.81045752, 0.80392157,\n",
       "        0.78431373]),\n",
       " 'split4_test_score': array([0.5620915 , 0.76470588, 0.75163399, 0.74509804, 0.50980392,\n",
       "        0.76470588, 0.76470588, 0.73202614, 0.50326797, 0.76470588,\n",
       "        0.77124183, 0.73202614, 0.50980392, 0.76470588, 0.74509804,\n",
       "        0.75163399]),\n",
       " 'mean_test_score': array([0.49618029, 0.76568203, 0.75914608, 0.761735  , 0.45449453,\n",
       "        0.77088532, 0.76176895, 0.76300823, 0.44798404, 0.76827943,\n",
       "        0.76047025, 0.76430693, 0.44798404, 0.76698073, 0.76045327,\n",
       "        0.7682285 ]),\n",
       " 'std_test_score': array([0.05478894, 0.02384127, 0.0202174 , 0.01849567, 0.05500103,\n",
       "        0.02474274, 0.02147897, 0.01842835, 0.05343755, 0.02303895,\n",
       "        0.02094623, 0.01838103, 0.05711894, 0.0225637 , 0.02486558,\n",
       "        0.01209109]),\n",
       " 'rank_test_score': array([13,  5, 12,  9, 14,  1,  8,  7, 15,  2, 10,  6, 15,  4, 11,  3])}"
      ]
     },
     "execution_count": 20,
     "metadata": {},
     "output_type": "execute_result"
    }
   ],
   "source": [
    "g1.cv_results_"
   ]
  },
  {
   "cell_type": "code",
   "execution_count": 22,
   "id": "aad0b178",
   "metadata": {},
   "outputs": [
    {
     "data": {
      "text/plain": [
       "{'C': 5, 'kernel': 'linear'}"
      ]
     },
     "execution_count": 22,
     "metadata": {},
     "output_type": "execute_result"
    }
   ],
   "source": [
    "g1.best_params_"
   ]
  },
  {
   "cell_type": "code",
   "execution_count": 23,
   "id": "a1d071f3",
   "metadata": {},
   "outputs": [
    {
     "data": {
      "text/plain": [
       "sklearn.model_selection._search.GridSearchCV"
      ]
     },
     "execution_count": 23,
     "metadata": {},
     "output_type": "execute_result"
    }
   ],
   "source": [
    "type(g1)"
   ]
  },
  {
   "cell_type": "code",
   "execution_count": 26,
   "id": "e6271696",
   "metadata": {},
   "outputs": [],
   "source": [
    "x_train,x_test,y_train,y_test=train_test_split(x,y,test_size=0.2,random_state=2)"
   ]
  },
  {
   "cell_type": "code",
   "execution_count": 27,
   "id": "53cdf30c",
   "metadata": {},
   "outputs": [],
   "source": [
    "model1=SVC(kernel='linear',C=5)"
   ]
  },
  {
   "cell_type": "code",
   "execution_count": 28,
   "id": "25a1d7b1",
   "metadata": {},
   "outputs": [
    {
     "data": {
      "text/plain": [
       "SVC(C=5, kernel='linear')"
      ]
     },
     "execution_count": 28,
     "metadata": {},
     "output_type": "execute_result"
    }
   ],
   "source": [
    "model1.fit(x_train,y_train)"
   ]
  },
  {
   "cell_type": "code",
   "execution_count": 31,
   "id": "bca7c097",
   "metadata": {},
   "outputs": [],
   "source": [
    "y_pred=model1.predict(x_test)"
   ]
  },
  {
   "cell_type": "code",
   "execution_count": 32,
   "id": "7c05ed5a",
   "metadata": {},
   "outputs": [
    {
     "data": {
      "text/plain": [
       "0.7662337662337663"
      ]
     },
     "execution_count": 32,
     "metadata": {},
     "output_type": "execute_result"
    }
   ],
   "source": [
    "accuracy_score(y_test,y_pred)"
   ]
  },
  {
   "cell_type": "code",
   "execution_count": 34,
   "id": "a9f6a6e9",
   "metadata": {},
   "outputs": [],
   "source": [
    "cs1=cross_val_score(model1,x,y,cv=5)"
   ]
  },
  {
   "cell_type": "code",
   "execution_count": 35,
   "id": "72ca77ca",
   "metadata": {},
   "outputs": [
    {
     "data": {
      "text/plain": [
       "0.7708853238265002"
      ]
     },
     "execution_count": 35,
     "metadata": {},
     "output_type": "execute_result"
    }
   ],
   "source": [
    "sum(cs1)/len(cs1)"
   ]
  },
  {
   "cell_type": "code",
   "execution_count": null,
   "id": "5bd02807",
   "metadata": {},
   "outputs": [],
   "source": []
  }
 ],
 "metadata": {
  "kernelspec": {
   "display_name": "Python 3",
   "language": "python",
   "name": "python3"
  },
  "language_info": {
   "codemirror_mode": {
    "name": "ipython",
    "version": 3
   },
   "file_extension": ".py",
   "mimetype": "text/x-python",
   "name": "python",
   "nbconvert_exporter": "python",
   "pygments_lexer": "ipython3",
   "version": "3.8.8"
  }
 },
 "nbformat": 4,
 "nbformat_minor": 5
}
